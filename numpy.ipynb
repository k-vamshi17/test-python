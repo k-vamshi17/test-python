{
 "cells": [
  {
   "cell_type": "code",
   "execution_count": 2,
   "id": "3e1aeed1",
   "metadata": {},
   "outputs": [
    {
     "name": "stdout",
     "output_type": "stream",
     "text": [
      "VAl of a= 10\n",
      "Type of a = <class 'int'>\n"
     ]
    }
   ],
   "source": [
    "import numpy as np\n",
    "a=10\n",
    "print(\"VAl of a= {}\".format(a))\n",
    "print(\"Type of a = {}\".format(type(a)))"
   ]
  },
  {
   "cell_type": "code",
   "execution_count": 3,
   "id": "fb13ff52",
   "metadata": {},
   "outputs": [
    {
     "name": "stdout",
     "output_type": "stream",
     "text": [
      "Val of nda=  10\n",
      "Type of nda= <class 'numpy.ndarray'>\n"
     ]
    }
   ],
   "source": [
    "nda=np.array(a)\n",
    "print(\"Val of nda= \",nda)\n",
    "print(\"Type of nda=\", type(nda))"
   ]
  },
  {
   "cell_type": "code",
   "execution_count": 4,
   "id": "2cbf976e",
   "metadata": {},
   "outputs": [
    {
     "name": "stdout",
     "output_type": "stream",
     "text": [
      "Dimension of nda= 0\n",
      "Shape of nda= ()\n",
      "Size of nda= 1\n",
      "data type of nda= int64\n",
      "Item size of nda= 8\n"
     ]
    }
   ],
   "source": [
    "print(\"Dimension of nda=\",nda.ndim)\n",
    "print(\"Shape of nda=\",nda.shape)\n",
    "print(\"Size of nda=\",nda.size)\n",
    "print(\"data type of nda=\",nda.dtype)\n",
    "print(\"Item size of nda=\",nda.itemsize)"
   ]
  },
  {
   "cell_type": "code",
   "execution_count": null,
   "id": "8bedd8ab",
   "metadata": {},
   "outputs": [],
   "source": []
  }
 ],
 "metadata": {
  "kernelspec": {
   "display_name": "dashboard_env",
   "language": "python",
   "name": "python3"
  },
  "language_info": {
   "codemirror_mode": {
    "name": "ipython",
    "version": 3
   },
   "file_extension": ".py",
   "mimetype": "text/x-python",
   "name": "python",
   "nbconvert_exporter": "python",
   "pygments_lexer": "ipython3",
   "version": "3.12.7"
  }
 },
 "nbformat": 4,
 "nbformat_minor": 5
}

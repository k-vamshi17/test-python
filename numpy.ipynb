{
 "cells": [
  {
   "cell_type": "code",
   "execution_count": 2,
   "id": "3e1aeed1",
   "metadata": {},
   "outputs": [
    {
     "name": "stdout",
     "output_type": "stream",
     "text": [
      "VAl of a= 10\n",
      "Type of a = <class 'int'>\n"
     ]
    }
   ],
   "source": [
    "import numpy as np\n",
    "a=10\n",
    "print(\"VAl of a= {}\".format(a))\n",
    "print(\"Type of a = {}\".format(type(a)))"
   ]
  },
  {
   "cell_type": "code",
   "execution_count": 3,
   "id": "fb13ff52",
   "metadata": {},
   "outputs": [
    {
     "name": "stdout",
     "output_type": "stream",
     "text": [
      "Val of nda=  10\n",
      "Type of nda= <class 'numpy.ndarray'>\n"
     ]
    }
   ],
   "source": [
    "nda=np.array(a)\n",
    "print(\"Val of nda= \",nda)\n",
    "print(\"Type of nda=\", type(nda))"
   ]
  },
  {
   "cell_type": "code",
   "execution_count": 4,
   "id": "2cbf976e",
   "metadata": {},
   "outputs": [
    {
     "name": "stdout",
     "output_type": "stream",
     "text": [
      "Dimension of nda= 0\n",
      "Shape of nda= ()\n",
      "Size of nda= 1\n",
      "data type of nda= int64\n",
      "Item size of nda= 8\n"
     ]
    }
   ],
   "source": [
    "print(\"Dimension of nda=\",nda.ndim)\n",
    "print(\"Shape of nda=\",nda.shape)\n",
    "print(\"Size of nda=\",nda.size)\n",
    "print(\"data type of nda=\",nda.dtype)\n",
    "print(\"Item size of nda=\",nda.itemsize)"
   ]
  },
  {
   "cell_type": "code",
   "execution_count": 5,
   "id": "8bedd8ab",
   "metadata": {},
   "outputs": [
    {
     "name": "stdout",
     "output_type": "stream",
     "text": [
      "Val of a=10.34\n",
      "Type of a=<class 'float'>\n",
      "-------------------------------\n",
      "val of nda= 10.34\n",
      "Type of nda= <class 'numpy.ndarray'>\n",
      "-------------------------\n",
      "Dimension of nda= 0\n",
      "Shape of nda= ()\n",
      "Size of nda= 1\n",
      "data type of nda= float64\n",
      "Item size of nda= 8\n",
      "-------------------------\n"
     ]
    }
   ],
   "source": [
    "a=10.34\n",
    "print(\"Val of a={}\".format(a))\n",
    "print(\"Type of a={}\".format(type(a)))\n",
    "print(\"-------------------------------\")\n",
    "nda=np.array(a)\n",
    "print(\"val of nda=\",nda)\n",
    "print(\"Type of nda=\",type(nda))\n",
    "print(\"-------------------------\")\n",
    "print(\"Dimension of nda=\",nda.ndim)\n",
    "print(\"Shape of nda=\",nda.shape)\n",
    "print(\"Size of nda=\",nda.size)\n",
    "print(\"data type of nda=\",nda.dtype)\n",
    "print(\"Item size of nda=\",nda.itemsize)\n",
    "print(\"-------------------------\")"
   ]
  },
  {
   "cell_type": "code",
   "execution_count": 6,
   "id": "2789332d",
   "metadata": {},
   "outputs": [
    {
     "name": "stdout",
     "output_type": "stream",
     "text": [
      "val of s= PYTHON\n",
      "Type of s= <class 'str'>\n",
      "val of a= PYTHON\n",
      "Type of a= <class 'numpy.ndarray'>\n",
      "-------------------------\n",
      "Dimension of a= 0\n",
      "Shape of a= ()\n",
      "Size of a= 1\n",
      "data type of a= <U6\n",
      "-------------------------\n"
     ]
    }
   ],
   "source": [
    "s=\"PYTHON\"\n",
    "print(\"val of s=\",s)\n",
    "print(\"Type of s=\",type(s))\n",
    "a=np.array(s)\n",
    "print(\"val of a=\",a)\n",
    "print(\"Type of a=\",type(a))\n",
    "print(\"-------------------------\")\n",
    "print(\"Dimension of a=\",a.ndim)\n",
    "print(\"Shape of a=\",a.shape)\n",
    "print(\"Size of a=\",a.size)\n",
    "print(\"data type of a=\",a.dtype)\n",
    "print(\"-------------------------\")\n"
   ]
  },
  {
   "cell_type": "code",
   "execution_count": 7,
   "id": "44893173",
   "metadata": {},
   "outputs": [
    {
     "name": "stdout",
     "output_type": "stream",
     "text": [
      "val of s= PYTHON PROG\n",
      "Type of s= <class 'str'>\n",
      "val of a= PYTHON PROG\n",
      "Type of a= <class 'numpy.ndarray'>\n",
      "-------------------------\n",
      "Dimension of a= 0\n",
      "Shape of a= ()\n",
      "Size of a= 1\n",
      "data type of a= <U11\n",
      "-------------------------\n"
     ]
    }
   ],
   "source": [
    "s=\"PYTHON PROG\"\n",
    "print(\"val of s=\",s)\n",
    "print(\"Type of s=\",type(s))\n",
    "a=np.array(s)\n",
    "print(\"val of a=\",a)\n",
    "print(\"Type of a=\",type(a))\n",
    "print(\"-------------------------\")\n",
    "print(\"Dimension of a=\",a.ndim)\n",
    "print(\"Shape of a=\",a.shape)\n",
    "print(\"Size of a=\",a.size)\n",
    "print(\"data type of a=\",a.dtype)\n",
    "print(\"-------------------------\")\n"
   ]
  },
  {
   "cell_type": "code",
   "execution_count": 9,
   "id": "d7bbf54c",
   "metadata": {},
   "outputs": [
    {
     "name": "stdout",
     "output_type": "stream",
     "text": [
      "0 1 2 3 4 5 6 7 8 9 -------------------------\n",
      "[0 1 2 3 4 5 6 7 8 9] <class 'numpy.ndarray'>\n",
      "Dimension of a= 1\n",
      "Shape of a= (10,)\n",
      "Size of a= 10\n",
      "data type of a= int64\n",
      "-------------------------\n"
     ]
    }
   ],
   "source": [
    "r=range(10) # range of values from 0 to 10-1\n",
    "for val in r:\n",
    "    print(val,end=\" \")\n",
    "#Converting range object into ndarray object\n",
    "r=range(10) # range of values from 0 to 10-1\n",
    "a=np.array(r)\n",
    "print(\"-------------------------\")\n",
    "print(a,type(a))\n",
    "print(\"Dimension of a=\",a.ndim)\n",
    "print(\"Shape of a=\",a.shape)\n",
    "print(\"Size of a=\",a.size)\n",
    "print(\"data type of a=\",a.dtype)\n",
    "print(\"-------------------------\")\n"
   ]
  },
  {
   "cell_type": "code",
   "execution_count": null,
   "id": "104b31f8",
   "metadata": {},
   "outputs": [],
   "source": []
  }
 ],
 "metadata": {
  "kernelspec": {
   "display_name": "dashboard_env",
   "language": "python",
   "name": "python3"
  },
  "language_info": {
   "codemirror_mode": {
    "name": "ipython",
    "version": 3
   },
   "file_extension": ".py",
   "mimetype": "text/x-python",
   "name": "python",
   "nbconvert_exporter": "python",
   "pygments_lexer": "ipython3",
   "version": "3.12.7"
  }
 },
 "nbformat": 4,
 "nbformat_minor": 5
}
